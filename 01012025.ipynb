{
  "metadata": {
    "kernelspec": {
      "name": "python",
      "display_name": "Python (Pyodide)",
      "language": "python"
    },
    "language_info": {
      "codemirror_mode": {
        "name": "python",
        "version": 3
      },
      "file_extension": ".py",
      "mimetype": "text/x-python",
      "name": "python",
      "nbconvert_exporter": "python",
      "pygments_lexer": "ipython3",
      "version": "3.8"
    }
  },
  "nbformat_minor": 4,
  "nbformat": 4,
  "cells": [
    {
      "cell_type": "code",
      "source": "Science = 80\nEnglish = 80\nMaths = 75\nMarathi = 35\nHindi = 20\n\ntotal = Science+English+Maths+Marathi+Hindi\nprint(\"Total Marks is = \",total)\nper = (total*100/500)\nprint(\"per = \",per)\n\nif per < 100 and per > 95:\n    print(\"Grade : A+\")\nif per < 94 and per > 90:\n    print(\"Grade : A\")\nif per < 89 and per > 80:\n    print(\"Grade : B\")\nif per < 79 and per > 70:\n    print(\"Grade : C\")\nif per < 69 and per > 60:\n    print(\"Grade : D\")\nif per < 59 and per > 50:\n    print(\"Grade : E\")",
      "metadata": {
        "trusted": true
      },
      "outputs": [
        {
          "name": "stdout",
          "text": "Total Marks is =  290\nper =  58.0\nGrade : E\n",
          "output_type": "stream"
        }
      ],
      "execution_count": 3
    },
    {
      "cell_type": "code",
      "source": "a = 10\nb = 15\n\nif a > b:\n    print(\"10 is greater than 15\")\nelse:\n    print(\"15 is greater than 10\")",
      "metadata": {
        "trusted": true
      },
      "outputs": [
        {
          "name": "stdout",
          "text": "15 is greater than 10\n",
          "output_type": "stream"
        }
      ],
      "execution_count": 4
    },
    {
      "cell_type": "code",
      "source": "year = 2025\n\nif (year % 400 == 0) and (year % 100 == 0):\n    print(\"{0} is a leap year\".format(year))\nelif (year % 4 == 0) and (year % 100 != 0):\n    print(\"{0} is a leap year\".format(year))\nelse:\n    print(\"{0} is not a leap year\".format(year))",
      "metadata": {
        "trusted": true
      },
      "outputs": [
        {
          "name": "stdout",
          "text": "2025 is not a leap year\n",
          "output_type": "stream"
        }
      ],
      "execution_count": 6
    },
    {
      "cell_type": "code",
      "source": "a = -7\n\nif a > 0 and a < 100:\n    print(\"(a) is a positive number\" . format(a))\nelif a <0 and a > -100:\n    print(\"(a) is a negative number\" . format(a))",
      "metadata": {
        "trusted": true
      },
      "outputs": [
        {
          "name": "stdout",
          "text": "(a) is a negative number\n",
          "output_type": "stream"
        }
      ],
      "execution_count": 7
    },
    {
      "cell_type": "code",
      "source": "name = \"johnny\"\nage = 24\nprint(f\"My name is {name}, I am {age} years old.\")",
      "metadata": {
        "trusted": true
      },
      "outputs": [
        {
          "name": "stdout",
          "text": "My name is johnny, I am 24 years old.\n",
          "output_type": "stream"
        }
      ],
      "execution_count": 9
    },
    {
      "cell_type": "code",
      "source": "x = 10\ny = 5 \n\nprint(f\"The sum of {x} and {y} is {x + y}.\")",
      "metadata": {
        "trusted": true
      },
      "outputs": [
        {
          "name": "stdout",
          "text": "The sum of 10 and 5 is 15.\n",
          "output_type": "stream"
        }
      ],
      "execution_count": 11
    },
    {
      "cell_type": "code",
      "source": "name = \"Pankaj\"\nage = 25\nprint(\"My name is {}, and I am {} years old.\".format(name, age))\nprint(\"My name is {0}, and I am {1} years old. {0} is learning Python.\".format(name, age))\nprint(\"My name is %s, and I am %d years old.\" % (name, age))",
      "metadata": {
        "trusted": true
      },
      "outputs": [
        {
          "name": "stdout",
          "text": "My name is Pankaj, and I am 25 years old.\nMy name is Pankaj, and I am 25 years old. Pankaj is learning Python.\nMy name is Pankaj, and I am 25 years old.\n",
          "output_type": "stream"
        }
      ],
      "execution_count": 14
    },
    {
      "cell_type": "code",
      "source": "pi = 3.14159\nprint(\"The value of pi is approximately %.2f.\" % pi)",
      "metadata": {
        "trusted": true
      },
      "outputs": [
        {
          "name": "stdout",
          "text": "The value of pi is approximately 3.14.\n",
          "output_type": "stream"
        }
      ],
      "execution_count": 17
    },
    {
      "cell_type": "code",
      "source": "name = \"Pankaj\"\nprint(f\"{name:>10}\")",
      "metadata": {
        "trusted": true
      },
      "outputs": [
        {
          "name": "stdout",
          "text": "    Pankaj\n",
          "output_type": "stream"
        }
      ],
      "execution_count": 21
    },
    {
      "cell_type": "code",
      "source": "name = \"Pankaj\"\nprint(f\"{name:<10}\")",
      "metadata": {
        "trusted": true
      },
      "outputs": [
        {
          "name": "stdout",
          "text": "Pankaj    \n",
          "output_type": "stream"
        }
      ],
      "execution_count": 22
    },
    {
      "cell_type": "code",
      "source": "name = \"Pankaj\"\nprint(f\"{name:^10}\")",
      "metadata": {
        "trusted": true
      },
      "outputs": [
        {
          "name": "stdout",
          "text": "  Pankaj  \n",
          "output_type": "stream"
        }
      ],
      "execution_count": 23
    },
    {
      "cell_type": "code",
      "source": "pi = 3.141592653589793\nprint(f\"Value of pi to 3 decimal places: {pi:.3f}\")",
      "metadata": {
        "trusted": true
      },
      "outputs": [
        {
          "name": "stdout",
          "text": "Value of pi to 3 decimal places: 3.142\n",
          "output_type": "stream"
        }
      ],
      "execution_count": 24
    },
    {
      "cell_type": "code",
      "source": "number = 1000000\nprint(f\"Number with commas: {number:,}\")",
      "metadata": {
        "trusted": true
      },
      "outputs": [
        {
          "name": "stdout",
          "text": "Number with commas: 1,000,000\n",
          "output_type": "stream"
        }
      ],
      "execution_count": 25
    },
    {
      "cell_type": "code",
      "source": "name = \"Johnny\"\nage = 21\npi = 3.14159\nprint(f\"Name: {name:<10} Age: {age:<10} Pi: {pi:.2f}\")",
      "metadata": {
        "trusted": true
      },
      "outputs": [
        {
          "name": "stdout",
          "text": "Name: Pankaj     Age: 25         Pi: 3.14\n",
          "output_type": "stream"
        }
      ],
      "execution_count": 26
    }
  ]
}