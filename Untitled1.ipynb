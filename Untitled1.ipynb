{
  "metadata": {
    "kernelspec": {
      "name": "python",
      "display_name": "Python (Pyodide)",
      "language": "python"
    },
    "language_info": {
      "codemirror_mode": {
        "name": "python",
        "version": 3
      },
      "file_extension": ".py",
      "mimetype": "text/x-python",
      "name": "python",
      "nbconvert_exporter": "python",
      "pygments_lexer": "ipython3",
      "version": "3.8"
    }
  },
  "nbformat_minor": 4,
  "nbformat": 4,
  "cells": [
    {
      "cell_type": "code",
      "source": "Science = 80\nEnglish = 80\nMaths = 75\nMarathi = 35\nHindi = 20\n\ntotal = Science+English+Maths+Marathi+Hindi\nprint(\"Total Marks is = \",total)\nper = (total*100/500)\nprint(\"per = \",per)\n\nif per < 100 and per > 95:\n    print(\"Grade : A+\")\neif per < 94 and per > 90:\n    print(\"Grade : A\")\nif per < 89 and per > 80:\n    print(\"Grade : B\")\nif per < 79 and per > 70:\n    print(\"Grade : C\")\nif per < 69 and per > 60:\n    print(\"Grade : D\")\nif per < 59 and per > 50:\n    print(\"Grade : E\")\n",
      "metadata": {
        "trusted": true
      },
      "outputs": [
        {
          "name": "stdout",
          "text": "Total Marks is =  290\nper =  58.0\n",
          "output_type": "stream"
        }
      ],
      "execution_count": 49
    }
  ]
}