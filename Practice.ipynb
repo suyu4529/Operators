{
  "metadata": {
    "kernelspec": {
      "name": "python",
      "display_name": "Python (Pyodide)",
      "language": "python"
    },
    "language_info": {
      "codemirror_mode": {
        "name": "python",
        "version": 3
      },
      "file_extension": ".py",
      "mimetype": "text/x-python",
      "name": "python",
      "nbconvert_exporter": "python",
      "pygments_lexer": "ipython3",
      "version": "3.8"
    }
  },
  "nbformat_minor": 4,
  "nbformat": 4,
  "cells": [
    {
      "cell_type": "code",
      "source": "Science = 25\nEnglish = 45\nMarathi = 35\nMaths = 35\nHindi = 45\nHistory = 35\nGeography = 40\n\ntotal = Science+English+Marathi+Maths+Hindi+History+Geography\nprint(\"Total Marks Obtained = \" , total)\n\nper = (total*100/700)\nprint(\"Percentage = \" , per)\n\nif per < 100 and per > 95:\n    print(\"Grade : A+\")\nelif per < 94 and per > 80:\n    print(\"Grade : A\")\nelif per < 79 and per > 70:\n    print(\"Grade : B\")\nelif per < 69 and per > 60:\n    print(\"Grade : C\")\nelif per < 59 and per > 50:\n    print(\"Grade : D\")\nelif per < 49 and per > 40:\n    print(\"Grade : E\")\nelse:\n    print(\"Grade : Fail\")",
      "metadata": {
        "trusted": true
      },
      "outputs": [
        {
          "name": "stdout",
          "text": "Total Marks Obtained =  260\nPercentage =  37.142857142857146\nGrade : Fail\n",
          "output_type": "stream"
        }
      ],
      "execution_count": 22
    },
    {
      "cell_type": "code",
      "source": "a = 10\nb = 15\n\nif a > b:\n    print(\"10 is greater than 15\")\nelse:\n    print(\"15 is greater than 10\")",
      "metadata": {
        "trusted": true
      },
      "outputs": [
        {
          "name": "stdout",
          "text": "15 is greater than 10\n",
          "output_type": "stream"
        }
      ],
      "execution_count": 23
    },
    {
      "cell_type": "code",
      "source": "year = 2024\n\nif (year % 400 == 0) and (year % 100 == 0):\n    print(\"{0} is a leap year\".format(year))\nelif (year % 4 == 0) and (year % 100 != 0):\n    print(\"{0} is a leap year\".format(year))\nelse:\n    print(\"{0} is not a leap year\".format(year))",
      "metadata": {
        "trusted": true
      },
      "outputs": [
        {
          "name": "stdout",
          "text": "2024 is a leap year\n",
          "output_type": "stream"
        }
      ],
      "execution_count": 28
    },
    {
      "cell_type": "code",
      "source": "a = -7\n\nif a > 0 and a < 100:\n    print(\"(a) is a positive number\" . format(a))\nelif a <0 and a > -100:\n    print(\"(a) is a negative number\" . format(a))",
      "metadata": {
        "trusted": true
      },
      "outputs": [
        {
          "name": "stdout",
          "text": "(a) is a negative number\n",
          "output_type": "stream"
        }
      ],
      "execution_count": 32
    },
    {
      "cell_type": "code",
      "source": "",
      "metadata": {
        "trusted": true
      },
      "outputs": [],
      "execution_count": null
    },
    {
      "cell_type": "code",
      "source": "",
      "metadata": {
        "trusted": true
      },
      "outputs": [],
      "execution_count": null
    }
  ]
}