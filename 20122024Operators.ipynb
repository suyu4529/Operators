{
  "metadata": {
    "kernelspec": {
      "name": "python",
      "display_name": "Python (Pyodide)",
      "language": "python"
    },
    "language_info": {
      "codemirror_mode": {
        "name": "python",
        "version": 3
      },
      "file_extension": ".py",
      "mimetype": "text/x-python",
      "name": "python",
      "nbconvert_exporter": "python",
      "pygments_lexer": "ipython3",
      "version": "3.8"
    }
  },
  "nbformat_minor": 4,
  "nbformat": 4,
  "cells": [
    {
      "cell_type": "code",
      "source": "# Comparison Operators\n\na = 90\nb = 50\n\nprint(a == b)\nprint(a < b)\nprint(a > b)\nprint(a >= b)\nprint(a <= b)\nprint(a != b)",
      "metadata": {
        "trusted": true
      },
      "outputs": [
        {
          "name": "stdout",
          "text": "False\nFalse\nTrue\nTrue\nFalse\nTrue\n",
          "output_type": "stream"
        }
      ],
      "execution_count": 15
    },
    {
      "cell_type": "code",
      "source": "\n# Arithmetic Operators\n\nnum1 = 145\nnum2 = 2\n\nprint(num1 + num2)\n\nprint(num1 - num2)\n\nprint(num1 * num2)\n\nprint(num1 / num2)\n\nprint(num1 // num2)\n\nprint(num1 ** num2)\n\nprint(num1 % num2)\n",
      "metadata": {
        "trusted": true
      },
      "outputs": [
        {
          "name": "stdout",
          "text": "147\n143\n290\n72.5\n72\n21025\n1\n",
          "output_type": "stream"
        }
      ],
      "execution_count": 8
    },
    {
      "cell_type": "code",
      "source": "# Logical Operators\n# and\n# left side | right side = result \n#    t           t           t\n#    t           f           f\n#    f           t           f\n#    f           f           f\nprint(90 < 89 and 80 != 45)\n\n# or \n# left side | right side = result \n#    t           t           t\n#    t           f           t\n#    f           t           t\n#    f           f           f\nprint(90 < 89 or 80 != 45)\n\nprint(56 <= 56 and 78 < 34)\n\n#       f           t\n# not\n\nprint(not 90 == 90)\n",
      "metadata": {
        "trusted": true
      },
      "outputs": [
        {
          "name": "stdout",
          "text": "False\nFalse\nTrue\nFalse\n",
          "output_type": "stream"
        }
      ],
      "execution_count": 21
    },
    {
      "cell_type": "code",
      "source": "# Assignment Operators\n\n# Identity Operators\n\n# Membership Operators",
      "metadata": {
        "trusted": true
      },
      "outputs": [],
      "execution_count": null
    }
  ]
}