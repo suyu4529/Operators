{
  "metadata": {
    "kernelspec": {
      "name": "python",
      "display_name": "Python (Pyodide)",
      "language": "python"
    },
    "language_info": {
      "codemirror_mode": {
        "name": "python",
        "version": 3
      },
      "file_extension": ".py",
      "mimetype": "text/x-python",
      "name": "python",
      "nbconvert_exporter": "python",
      "pygments_lexer": "ipython3",
      "version": "3.8"
    }
  },
  "nbformat_minor": 4,
  "nbformat": 4,
  "cells": [
    {
      "cell_type": "code",
      "source": "n1 = 10\nn2 = 4\nn3 = 16\nn4 = 1\n\nif n1 < n2 and n1 < n3 and n1 < n4 :\n    print(\"n1 is smallest\")\nelif n2 < n1 and n2 < n3 and n2 < n4 :\n    print(\"n2 is smallest\")\nelif n3 < n1 and n3 < n2 and n3 < n4 :\n    print(\"n3 is smallest\")\nelse:\n    print(\"n4 is smallest\")",
      "metadata": {
        "trusted": true
      },
      "outputs": [
        {
          "name": "stdout",
          "text": "n4 is smallest\n",
          "output_type": "stream"
        }
      ],
      "execution_count": 2
    },
    {
      "cell_type": "code",
      "source": "n1 = 10\nn2 = 4\nn3 = 16\nn4 = 1\n\nif n1 > n2 and n1 > n3 and n1 > n4 :\n    print(\"n1 is greatest\")\nelif n2 > n1 and n2 > n3 and n2 > n4 :\n    print(\"n2 is greatest\")\nelif n3 > n1 and n3 > n2 and n3 > n4 :\n    print(\"n3 is greatest\")\nelse:\n    print(\"n4 is greatest\")",
      "metadata": {
        "trusted": true
      },
      "outputs": [
        {
          "name": "stdout",
          "text": "n3 is greatest\n",
          "output_type": "stream"
        }
      ],
      "execution_count": 3
    },
    {
      "cell_type": "code",
      "source": "a = 10\nb = 7\n\nif a % 2 == 0 :\n    print(\"a is even\")\nelse:\n    print(\"a is odd\")\n\nif b % 2 ==0 :\n    print(\"b is even\")\nelse:\n    print(\"b is odd\")",
      "metadata": {
        "trusted": true
      },
      "outputs": [
        {
          "name": "stdout",
          "text": "a is even\nb is odd\n",
          "output_type": "stream"
        }
      ],
      "execution_count": 7
    },
    {
      "cell_type": "code",
      "source": "a = 625\nprint(a ** 0.5)",
      "metadata": {
        "trusted": true
      },
      "outputs": [
        {
          "name": "stdout",
          "text": "25.0\n",
          "output_type": "stream"
        }
      ],
      "execution_count": 22
    }
  ]
}